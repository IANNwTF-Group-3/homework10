{
 "cells": [
  {
   "cell_type": "code",
   "execution_count": 23,
   "metadata": {},
   "outputs": [
    {
     "ename": "ModuleNotFoundError",
     "evalue": "No module named 'tensorflow_text'",
     "output_type": "error",
     "traceback": [
      "\u001b[1;31m---------------------------------------------------------------------------\u001b[0m",
      "\u001b[1;31mModuleNotFoundError\u001b[0m                       Traceback (most recent call last)",
      "\u001b[1;32mc:\\Users\\Julian Unland\\Desktop\\Studium\\Master\\2. Semester\\Implementing ANN's with TensorFlow\\homework10\\homework10\\homework10.ipynb Cell 1\u001b[0m in \u001b[0;36m<module>\u001b[1;34m\u001b[0m\n\u001b[0;32m      <a href='vscode-notebook-cell:/c%3A/Users/Julian%20Unland/Desktop/Studium/Master/2.%20Semester/Implementing%20ANN%27s%20with%20TensorFlow/homework10/homework10/homework10.ipynb#W0sZmlsZQ%3D%3D?line=4'>5</a>\u001b[0m \u001b[39mimport\u001b[39;00m \u001b[39mtensorflow\u001b[39;00m \u001b[39mas\u001b[39;00m \u001b[39mtf\u001b[39;00m\n\u001b[0;32m      <a href='vscode-notebook-cell:/c%3A/Users/Julian%20Unland/Desktop/Studium/Master/2.%20Semester/Implementing%20ANN%27s%20with%20TensorFlow/homework10/homework10/homework10.ipynb#W0sZmlsZQ%3D%3D?line=5'>6</a>\u001b[0m \u001b[39mimport\u001b[39;00m \u001b[39mtensorflow_datasets\u001b[39;00m \u001b[39mas\u001b[39;00m \u001b[39mtfds\u001b[39;00m\n\u001b[1;32m----> <a href='vscode-notebook-cell:/c%3A/Users/Julian%20Unland/Desktop/Studium/Master/2.%20Semester/Implementing%20ANN%27s%20with%20TensorFlow/homework10/homework10/homework10.ipynb#W0sZmlsZQ%3D%3D?line=6'>7</a>\u001b[0m \u001b[39mimport\u001b[39;00m \u001b[39mtensorflow_text\u001b[39;00m \u001b[39mas\u001b[39;00m \u001b[39mtf_text\u001b[39;00m\n\u001b[0;32m      <a href='vscode-notebook-cell:/c%3A/Users/Julian%20Unland/Desktop/Studium/Master/2.%20Semester/Implementing%20ANN%27s%20with%20TensorFlow/homework10/homework10/homework10.ipynb#W0sZmlsZQ%3D%3D?line=7'>8</a>\u001b[0m \u001b[39mfrom\u001b[39;00m \u001b[39mtensorflow\u001b[39;00m\u001b[39m.\u001b[39;00m\u001b[39mpython\u001b[39;00m\u001b[39m.\u001b[39;00m\u001b[39mops\u001b[39;00m\u001b[39m.\u001b[39;00m\u001b[39mnumpy_ops\u001b[39;00m \u001b[39mimport\u001b[39;00m np_config\n\u001b[0;32m      <a href='vscode-notebook-cell:/c%3A/Users/Julian%20Unland/Desktop/Studium/Master/2.%20Semester/Implementing%20ANN%27s%20with%20TensorFlow/homework10/homework10/homework10.ipynb#W0sZmlsZQ%3D%3D?line=8'>9</a>\u001b[0m np_config\u001b[39m.\u001b[39menable_numpy_behavior()\n",
      "\u001b[1;31mModuleNotFoundError\u001b[0m: No module named 'tensorflow_text'"
     ]
    }
   ],
   "source": [
    "# disable compiler warnings\n",
    "import os\n",
    "\n",
    "# imports \n",
    "import tensorflow as tf\n",
    "import tensorflow_datasets as tfds\n",
    "import tensorflow_text as tf_text\n",
    "from tensorflow.python.ops.numpy_ops import np_config\n",
    "np_config.enable_numpy_behavior()\n",
    "import numpy as np\n",
    "import matplotlib.pyplot as plt\n",
    "from tensorflow.python.keras.layers import Dense\n",
    "from typing import List\n",
    "import datetime\n",
    "from tqdm.notebook import tqdm\n",
    "\n",
    "\n",
    "from tensorflow.python.client import device_lib\n",
    "#os.environ['TF_CPP_MIN_LOG_LEVEL'] = '0'  # FATAL\n",
    "print(\"Num GPUs Available: \", tf.config.list_physical_devices('GPU'))"
   ]
  },
  {
   "cell_type": "code",
   "execution_count": 19,
   "metadata": {},
   "outputs": [
    {
     "ename": "NameError",
     "evalue": "name 'RegexSplitter' is not defined",
     "output_type": "error",
     "traceback": [
      "\u001b[1;31m---------------------------------------------------------------------------\u001b[0m",
      "\u001b[1;31mNameError\u001b[0m                                 Traceback (most recent call last)",
      "\u001b[1;32mc:\\Users\\Julian Unland\\Desktop\\Studium\\Master\\2. Semester\\Implementing ANN's with TensorFlow\\homework10\\homework10\\homework10.ipynb Cell 2\u001b[0m in \u001b[0;36m<module>\u001b[1;34m\u001b[0m\n\u001b[0;32m      <a href='vscode-notebook-cell:/c%3A/Users/Julian%20Unland/Desktop/Studium/Master/2.%20Semester/Implementing%20ANN%27s%20with%20TensorFlow/homework10/homework10/homework10.ipynb#W1sZmlsZQ%3D%3D?line=2'>3</a>\u001b[0m \u001b[39mwith\u001b[39;00m \u001b[39mopen\u001b[39m(file_path, \u001b[39m\"\u001b[39m\u001b[39mr\u001b[39m\u001b[39m\"\u001b[39m) \u001b[39mas\u001b[39;00m f:\n\u001b[0;32m      <a href='vscode-notebook-cell:/c%3A/Users/Julian%20Unland/Desktop/Studium/Master/2.%20Semester/Implementing%20ANN%27s%20with%20TensorFlow/homework10/homework10/homework10.ipynb#W1sZmlsZQ%3D%3D?line=3'>4</a>\u001b[0m     text \u001b[39m=\u001b[39m f\u001b[39m.\u001b[39mread()\u001b[39m.\u001b[39mlower()\n\u001b[1;32m----> <a href='vscode-notebook-cell:/c%3A/Users/Julian%20Unland/Desktop/Studium/Master/2.%20Semester/Implementing%20ANN%27s%20with%20TensorFlow/homework10/homework10/homework10.ipynb#W1sZmlsZQ%3D%3D?line=5'>6</a>\u001b[0m splitter \u001b[39m=\u001b[39m RegexSplitter()\n\u001b[0;32m      <a href='vscode-notebook-cell:/c%3A/Users/Julian%20Unland/Desktop/Studium/Master/2.%20Semester/Implementing%20ANN%27s%20with%20TensorFlow/homework10/homework10/homework10.ipynb#W1sZmlsZQ%3D%3D?line=7'>8</a>\u001b[0m splitted \u001b[39m=\u001b[39m splitter(text)\n\u001b[0;32m     <a href='vscode-notebook-cell:/c%3A/Users/Julian%20Unland/Desktop/Studium/Master/2.%20Semester/Implementing%20ANN%27s%20with%20TensorFlow/homework10/homework10/homework10.ipynb#W1sZmlsZQ%3D%3D?line=9'>10</a>\u001b[0m tokenizer \u001b[39m=\u001b[39m tf\u001b[39m.\u001b[39mkeras\u001b[39m.\u001b[39mpreprocessing\u001b[39m.\u001b[39mtext\u001b[39m.\u001b[39mTokenizer(\n\u001b[0;32m     <a href='vscode-notebook-cell:/c%3A/Users/Julian%20Unland/Desktop/Studium/Master/2.%20Semester/Implementing%20ANN%27s%20with%20TensorFlow/homework10/homework10/homework10.ipynb#W1sZmlsZQ%3D%3D?line=10'>11</a>\u001b[0m                                                  num_words\u001b[39m=\u001b[39m\u001b[39mNone\u001b[39;00m,\n\u001b[0;32m     <a href='vscode-notebook-cell:/c%3A/Users/Julian%20Unland/Desktop/Studium/Master/2.%20Semester/Implementing%20ANN%27s%20with%20TensorFlow/homework10/homework10/homework10.ipynb#W1sZmlsZQ%3D%3D?line=11'>12</a>\u001b[0m                                                  filters\u001b[39m=\u001b[39m\u001b[39m\"\u001b[39m\u001b[39m\\n\u001b[39;00m\u001b[39m!\u001b[39m\u001b[39m'\u001b[39m\u001b[39m()*,-.0123456789:;?\u001b[39m\u001b[39m\"\u001b[39m,\n\u001b[1;32m   (...)\u001b[0m\n\u001b[0;32m     <a href='vscode-notebook-cell:/c%3A/Users/Julian%20Unland/Desktop/Studium/Master/2.%20Semester/Implementing%20ANN%27s%20with%20TensorFlow/homework10/homework10/homework10.ipynb#W1sZmlsZQ%3D%3D?line=16'>17</a>\u001b[0m                                                  analyzer\u001b[39m=\u001b[39m\u001b[39mNone\u001b[39;00m,\n\u001b[0;32m     <a href='vscode-notebook-cell:/c%3A/Users/Julian%20Unland/Desktop/Studium/Master/2.%20Semester/Implementing%20ANN%27s%20with%20TensorFlow/homework10/homework10/homework10.ipynb#W1sZmlsZQ%3D%3D?line=17'>18</a>\u001b[0m                                                  )\n",
      "\u001b[1;31mNameError\u001b[0m: name 'RegexSplitter' is not defined"
     ]
    }
   ],
   "source": [
    "file_path = \"bible.txt\"\n",
    "\n",
    "with open(file_path, \"r\") as f:\n",
    "    text = f.read().lower()\n",
    "\n",
    "splitter = RegexSplitter()\n",
    "\n",
    "splitted = splitter(text)\n",
    "\n",
    "tokenizer = tf.keras.preprocessing.text.Tokenizer(\n",
    "                                                 num_words=None,\n",
    "                                                 filters=\"\\n!'()*,-.0123456789:;?\",\n",
    "                                                 lower=True,\n",
    "                                                 split=' ',\n",
    "                                                 char_level=False,\n",
    "                                                 oov_token=None,\n",
    "                                                 analyzer=None,\n",
    "                                                 )\n",
    "\n",
    "tokens = tokenizer.fit_on_texts([text])\n",
    "print(tokens)"
   ]
  },
  {
   "cell_type": "code",
   "execution_count": 9,
   "metadata": {},
   "outputs": [
    {
     "name": "stdout",
     "output_type": "stream",
     "text": [
      "{'\\n': 0, ' ': 1, '!': 2, \"'\": 3, '(': 4, ')': 5, '*': 6, ',': 7, '-': 8, '.': 9, '0': 10, '1': 11, '2': 12, '3': 13, '4': 14, '5': 15, '6': 16, '7': 17, '8': 18, '9': 19, ':': 20, ';': 21, '?': 22, 'a': 23, 'b': 24, 'c': 25, 'd': 26, 'e': 27, 'f': 28, 'g': 29, 'h': 30, 'i': 31, 'j': 32, 'k': 33, 'l': 34, 'm': 35, 'n': 36, 'o': 37, 'p': 38, 'q': 39, 'r': 40, 's': 41, 't': 42, 'u': 43, 'v': 44, 'w': 45, 'x': 46, 'y': 47, 'z': 48}\n"
     ]
    }
   ],
   "source": [
    "\n",
    "vocabulary = {x: i for i, x in enumerate(np.unique(list(text)))}\n",
    "char_tokens = [vocabulary[char] for char in text]\n",
    "print(vocabulary)"
   ]
  },
  {
   "cell_type": "code",
   "execution_count": 8,
   "metadata": {},
   "outputs": [
    {
     "name": "stdout",
     "output_type": "stream",
     "text": [
      "[[26 1 24 27]\n",
      " [23 23 36 9]\n",
      " [23 43 29 30]\n",
      " ...\n",
      " [1 45 23 41]\n",
      " [1 25 23 34]\n",
      " [43 36 26 1]]\n"
     ]
    }
   ],
   "source": [
    "sequence_length = 4\n",
    "dataset = tf.data.Dataset.from_tensor_slices(char_tokens)\n",
    "dataset = dataset.window(sequence_length,drop_remainder=True)\n",
    "batch_windows = lambda x: x.batch(sequence_length).get_single_element()\n",
    "dataset = dataset.map(batch_windows)\n",
    "dataset = dataset.shuffle(10000).batch(64).prefetch(tf.data.AUTOTUNE)\n",
    "for seq in dataset.take(1):\n",
    "    tf.print(seq)"
   ]
  },
  {
   "cell_type": "code",
   "execution_count": null,
   "metadata": {},
   "outputs": [],
   "source": []
  }
 ],
 "metadata": {
  "kernelspec": {
   "display_name": "ki_klausur",
   "language": "python",
   "name": "python3"
  },
  "language_info": {
   "codemirror_mode": {
    "name": "ipython",
    "version": 3
   },
   "file_extension": ".py",
   "mimetype": "text/x-python",
   "name": "python",
   "nbconvert_exporter": "python",
   "pygments_lexer": "ipython3",
   "version": "3.8.12"
  },
  "orig_nbformat": 4,
  "vscode": {
   "interpreter": {
    "hash": "ccc2749a7be4b92b5b584e86e3aa803380c51e1da575f498b6f2d8cfba82568a"
   }
  }
 },
 "nbformat": 4,
 "nbformat_minor": 2
}
