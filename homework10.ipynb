{
 "cells": [
  {
   "cell_type": "code",
   "execution_count": 3,
   "metadata": {},
   "outputs": [
    {
     "name": "stdout",
     "output_type": "stream",
     "text": [
      "Num GPUs Available:  []\n"
     ]
    }
   ],
   "source": [
    "# disable compiler warnings\n",
    "import os\n",
    "\n",
    "# imports \n",
    "import tensorflow as tf\n",
    "import tensorflow_datasets as tfds\n",
    "import tensorflow_text as tf_text\n",
    "from tensorflow.python.ops.numpy_ops import np_config\n",
    "np_config.enable_numpy_behavior()\n",
    "import numpy as np\n",
    "import matplotlib.pyplot as plt\n",
    "from tensorflow.python.keras.layers import Dense\n",
    "from typing import List\n",
    "import datetime\n",
    "from tqdm.notebook import tqdm\n",
    "\n",
    "\n",
    "from tensorflow.python.client import device_lib\n",
    "#os.environ['TF_CPP_MIN_LOG_LEVEL'] = '0'  # FATAL\n",
    "print(\"Num GPUs Available: \", tf.config.list_physical_devices('GPU'))"
   ]
  },
  {
   "cell_type": "code",
   "execution_count": 4,
   "metadata": {},
   "outputs": [],
   "source": [
    "file_path = \"bible.txt\"\n",
    "\n",
    "with open(file_path, \"r\") as f:\n",
    "    text = f.read().lower()"
   ]
  },
  {
   "cell_type": "code",
   "execution_count": 20,
   "metadata": {},
   "outputs": [
    {
     "name": "stdout",
     "output_type": "stream",
     "text": [
      "([[116 1869 213]\n",
      " [29 629 2]\n",
      " [39 10 49]\n",
      " ...\n",
      " [247 2 188]\n",
      " [95 1 488]\n",
      " [4 1681 2]], [3 29 686 ... 2 2 597])\n"
     ]
    }
   ],
   "source": [
    "tokenizer = tf.keras.preprocessing.text.Tokenizer(\n",
    "                                                    num_words=None,\n",
    "                                                    filters='!\"#$%&()*+,-./:;<=>?@[\\\\]^_`{|}~\\t\\n',\n",
    "                                                    lower=True,\n",
    "                                                    split=' ',\n",
    "                                                    char_level=False,\n",
    "                                                    oov_token=None,\n",
    "                                                    analyzer=None,\n",
    "                                                )\n",
    "# split into tokens\n",
    "tokenizer.fit_on_texts([text])\n",
    "\n",
    "# remember what numbers represent what words\n",
    "word_index = tokenizer.word_index\n",
    "\n",
    "# Encode training data sentences into sequences\n",
    "train_sequences = tokenizer.texts_to_sequences([text])[0]\n",
    "\n",
    "# only take most common 10000 words\n",
    "train_sequences = [word for word in train_sequences if word <= 10000]\n",
    "\n",
    "sequence_length = 4\n",
    "dataset = tf.data.Dataset.from_tensor_slices(train_sequences)\n",
    "dataset = dataset.window(sequence_length,drop_remainder=True)\n",
    "batch_windows = lambda x: x.batch(sequence_length).get_single_element()\n",
    "# this is new\n",
    "split_sequence = lambda x: (x[:-1], x[-1])\n",
    "dataset = dataset.map(batch_windows).map(split_sequence)\n",
    "\n",
    "dataset = dataset.shuffle(10000).batch(64).prefetch(tf.data.AUTOTUNE)\n",
    "for seq in dataset.take(1):\n",
    "    tf.print(seq)\n",
    "\n",
    "\n",
    "vocabulary_size=10000\n",
    "embedding_dim=64\n",
    "embedding_lookup = tf.keras.layers.Embedding(input_dim=vocabulary_size, output_dim=embedding_dim)"
   ]
  },
  {
   "cell_type": "code",
   "execution_count": 21,
   "metadata": {},
   "outputs": [],
   "source": [
    "class SkipGram(tf.keras.layers.Layer):\n",
    "    def __init__(self, optimizer=tf.keras.optimizers.Adam()):\n",
    "        super(SkipGram, self).__init__()\n",
    "        \n",
    "\n",
    "\n"
   ]
  },
  {
   "cell_type": "code",
   "execution_count": 30,
   "metadata": {},
   "outputs": [
    {
     "name": "stdout",
     "output_type": "stream",
     "text": [
      "[[36 26 27 26]\n",
      " [47 1 35 23]\n",
      " [23 40 42 30]\n",
      " ...\n",
      " [36 1 23 36]\n",
      " [27 26 1 45]\n",
      " [43 1 29 23]]\n"
     ]
    }
   ],
   "source": []
  },
  {
   "cell_type": "code",
   "execution_count": null,
   "metadata": {},
   "outputs": [],
   "source": []
  }
 ],
 "metadata": {
  "kernelspec": {
   "display_name": "ki_klausur",
   "language": "python",
   "name": "python3"
  },
  "language_info": {
   "codemirror_mode": {
    "name": "ipython",
    "version": 3
   },
   "file_extension": ".py",
   "mimetype": "text/x-python",
   "name": "python",
   "nbconvert_exporter": "python",
   "pygments_lexer": "ipython3",
   "version": "3.8.12"
  },
  "orig_nbformat": 4,
  "vscode": {
   "interpreter": {
    "hash": "ccc2749a7be4b92b5b584e86e3aa803380c51e1da575f498b6f2d8cfba82568a"
   }
  }
 },
 "nbformat": 4,
 "nbformat_minor": 2
}
