{
  "cells": [
    {
      "cell_type": "code",
      "source": [
        "# Install tensorflow_text, if executed in google colab\n",
        "if 'google.colab' in str(get_ipython()):\n",
        "  !pip install -q -U \"tensorflow-text==2.8.*\""
      ],
      "metadata": {
        "id": "mWGHyYMNt6Pz"
      },
      "execution_count": null,
      "outputs": []
    },
    {
      "cell_type": "code",
      "execution_count": null,
      "metadata": {
        "colab": {
          "base_uri": "https://localhost:8080/"
        },
        "id": "ChR6_nWXrDkf",
        "outputId": "b3509768-edff-4a22-b29a-e4b15be4cdd5"
      },
      "outputs": [
        {
          "output_type": "stream",
          "name": "stdout",
          "text": [
            "Num GPUs Available:  [PhysicalDevice(name='/physical_device:GPU:0', device_type='GPU')]\n"
          ]
        }
      ],
      "source": [
        "# disable compiler warnings\n",
        "import os\n",
        "\n",
        "# imports \n",
        "import tensorflow as tf\n",
        "import tensorflow_datasets as tfds\n",
        "import tensorflow_text as tf_text\n",
        "from tensorflow.python.ops.numpy_ops import np_config\n",
        "np_config.enable_numpy_behavior()\n",
        "import numpy as np\n",
        "import matplotlib.pyplot as plt\n",
        "from tensorflow.python.keras.layers import Dense\n",
        "from typing import List\n",
        "import datetime\n",
        "from tqdm.notebook import tqdm\n",
        "\n",
        "\n",
        "from tensorflow.python.client import device_lib\n",
        "#os.environ['TF_CPP_MIN_LOG_LEVEL'] = '0'  # FATAL\n",
        "print(\"Num GPUs Available: \", tf.config.list_physical_devices('GPU'))"
      ]
    },
    {
      "cell_type": "markdown",
      "source": [
        "# Load data"
      ],
      "metadata": {
        "id": "NLE-EgLSKVqF"
      }
    },
    {
      "cell_type": "code",
      "source": [
        "import requests\n",
        "\n",
        "# Load file from remote, if notebook is executed inside google colab, otherwise it gets loaded from the local file system\n",
        "if 'google.colab' in str(get_ipython()):\n",
        "  bible_url = \"https://raw.githubusercontent.com/IANNwTF-Group-3/homework10/main/bible.txt\"\n",
        "  response = requests.get(bible_url)\n",
        "  text = response.text\n",
        "else:\n",
        "  file_path = \"bible.txt\"\n",
        "  with open(file_path, \"r\") as f:\n",
        "      text = f.read()"
      ],
      "metadata": {
        "id": "4o0efQkZrfhE"
      },
      "execution_count": null,
      "outputs": []
    },
    {
      "cell_type": "markdown",
      "source": [
        "# Preprocessing"
      ],
      "metadata": {
        "id": "ziclBuBJ-_8L"
      }
    },
    {
      "cell_type": "code",
      "source": [
        "import re\n",
        "\n",
        "# Lowercase the text\n",
        "text = text.lower()\n",
        "# Remove special characters\n",
        "for c in \"!'()*,-.0123456789:;?\":\n",
        "  text = text.replace(c, '')\n",
        "\n",
        "# Replace new lines and multiple spaces with a single space\n",
        "text = re.sub('\\n', ' ', text)\n",
        "text = re.sub(' +', ' ', text)\n",
        "print(text[:197])"
      ],
      "metadata": {
        "colab": {
          "base_uri": "https://localhost:8080/"
        },
        "id": "oAYzZyc4-xEL",
        "outputId": "170c5445-042c-414a-edad-7cc010390af9"
      },
      "execution_count": null,
      "outputs": [
        {
          "output_type": "stream",
          "name": "stdout",
          "text": [
            "the first book of moses called genesis in the beginning god created the heaven and the earth and the earth was without form and void and darkness was upon the face of the deep and the spirit of god\n"
          ]
        }
      ]
    },
    {
      "cell_type": "markdown",
      "source": [
        "# Tokenize"
      ],
      "metadata": {
        "id": "jZGQiaEa_E62"
      }
    },
    {
      "cell_type": "code",
      "execution_count": null,
      "metadata": {
        "id": "cuFe8kPMrDkk"
      },
      "outputs": [],
      "source": [
        "splitter = tf_text.RegexSplitter()\n",
        "\n",
        "splitted = splitter.split(text)\n",
        "\n",
        "tokenizer = tf.keras.preprocessing.text.Tokenizer(\n",
        "                                                 num_words=10000,\n",
        "                                                 filters=\"\\n!'()*,-.0123456789:;?\",\n",
        "                                                 lower=True,\n",
        "                                                 split=' ',\n",
        "                                                 char_level=False,\n",
        "                                                 oov_token=None,\n",
        "                                                 )\n",
        "\n",
        "tokenizer.fit_on_texts([text])\n",
        "#print(tokenizer.get_config().keys())\n",
        "#print(tokenizer.get_config()['word_index'])\n",
        "#print(tokenizer.word_counts)"
      ]
    },
    {
      "cell_type": "markdown",
      "source": [
        "# Create input-taget pairs"
      ],
      "metadata": {
        "id": "7e0NVMas_Ix6"
      }
    },
    {
      "cell_type": "code",
      "source": [
        "word_count = 10000\n",
        "window_size = 5 # Please use odd number\n",
        "\n",
        "words = text.split(\" \")[:word_count]\n",
        "input_dataset = []\n",
        "target_dataset = []\n",
        "offset = (int) (window_size / 2)\n",
        "for i in range(offset, word_count - offset):\n",
        "  for j in range(i - offset, i + offset + 1):\n",
        "    if j != i:\n",
        "      input_dataset.append(tokenizer.word_index[words[i]])\n",
        "      target_dataset.append(tokenizer.word_index[words[j]])\n",
        "\n",
        "print(words[:10])\n",
        "\n",
        "dataset = tf.data.Dataset.from_tensor_slices((input_dataset, target_dataset)).batch(32)"
      ],
      "metadata": {
        "id": "vgWCuk0C9Unb",
        "outputId": "def5db9b-4d51-44b9-b3eb-669ee91dc1d5",
        "colab": {
          "base_uri": "https://localhost:8080/"
        }
      },
      "execution_count": null,
      "outputs": [
        {
          "output_type": "stream",
          "name": "stdout",
          "text": [
            "['the', 'first', 'book', 'of', 'moses', 'called', 'genesis', 'in', 'the', 'beginning']\n"
          ]
        }
      ]
    },
    {
      "cell_type": "markdown",
      "source": [
        "# SkipGram"
      ],
      "metadata": {
        "id": "8pgsqr7Qu_QW"
      }
    },
    {
      "cell_type": "code",
      "execution_count": null,
      "metadata": {
        "id": "sRIlPmB7rDkn"
      },
      "outputs": [],
      "source": [
        "class SkipGram(tf.keras.layers.Layer):\n",
        "    def __init__(self, num_vocabulary, embedding_dim=64):\n",
        "        super(SkipGram, self).__init__()\n",
        "        self.v = num_vocabulary\n",
        "        self.h = embedding_dim\n",
        "    \n",
        "    def build(self,_):\n",
        "        self.embedding_mat = self.add_weight(shape=(self.v, self.h),\n",
        "                                             initializer=\"uniform\",\n",
        "                                             trainable=True) \n",
        "        self.output_mat = self.add_weight(shape=(self.v, self.h),\n",
        "                                          initializer=\"random_normal\",\n",
        "                                          trainable=True) \n",
        "        self.output_bias = self.add_weight(shape=(self.v,),\n",
        "                                           initializer=\"zero\",\n",
        "                                           trainable=True)\n",
        "\n",
        "    def call(self, input_id, target_id):\n",
        "        # (batch,h) = from (v,h) select 'batch_num' v* by lookup\n",
        "        embedding_vec = tf.nn.embedding_lookup(self.embedding_mat, input_id)\n",
        "\n",
        "        # compute score vector, softmax of it and loss in one function call\n",
        "        loss = tf.nn.nce_loss(weights=self.output_mat,  # (v,h)\n",
        "                              biases=self.output_bias,  # (v,)\n",
        "                              labels=tf.expand_dims(target_id,axis=1),  # (batch,1)\n",
        "                              inputs=embedding_vec,  # (batch,h)\n",
        "                              num_sampled=1,\n",
        "                              num_classes=self.v)  \n",
        "        return tf.math.reduce_mean(loss)\n",
        "\n",
        "    def embedding(self, input_id):\n",
        "        return tf.nn.embedding_lookup(self.embedding_mat, input_id)"
      ]
    },
    {
      "cell_type": "code",
      "source": [
        "# per batch\n",
        "def train_step(model, input_batch, target_batch, optimizer):\n",
        "    with tf.GradientTape() as tape:\n",
        "        loss = model(input_batch, target_batch)  # call directly returns the loss\n",
        "        gradients = tape.gradient(loss, model.trainable_variables)\n",
        "        optimizer.apply_gradients(zip(gradients, model.trainable_variables))\n",
        "\n",
        "        return loss\n"
      ],
      "metadata": {
        "id": "h8sYskEOhgPf"
      },
      "execution_count": null,
      "outputs": []
    },
    {
      "cell_type": "code",
      "source": [
        "LEARNING_RATE = 0.01\n",
        "BATCH_SIZE = 64\n",
        "EPOCHS = 20\n",
        "\n",
        "# define model\n",
        "skipgram = SkipGram(num_vocabulary=len(tokenizer.word_counts))\n",
        "\n",
        "# define optimizer\n",
        "optimizer = tf.keras.optimizers.Adam(LEARNING_RATE)\n",
        "\n",
        "# initialize the logger for Tensorboard visualization\n",
        "current_time = datetime.datetime.now().strftime(\"%Y%m%d-%H%M%S\")\n",
        "train_log_dir = 'logs/' + current_time + '/train'    \n",
        "train_summary_writer = tf.summary.create_file_writer(train_log_dir)"
      ],
      "metadata": {
        "id": "-5LtFOaRhroG"
      },
      "execution_count": null,
      "outputs": []
    },
    {
      "cell_type": "code",
      "source": [
        "from sklearn.neighbors import NearestNeighbors\n",
        "def nearest_neighbours(model, num_vocab, selected_word_id, val_dict, k=5):\n",
        "    cosine_similarity = lambda x,y : np.dot(x,y) / (np.linalg.norm(x) * np.linalg.norm(y))\n",
        "\n",
        "    # embeddings of words\n",
        "    embedding_selected_word = skipgram.embedding(tf.constant(selected_word_id))\n",
        "    embedding_every_word = skipgram.embedding(tf.constant(list(range(num_vocab))))\n",
        "\n",
        "    # fit nearest neighbours using cosine similarity and embeddings of all words\n",
        "    nbrs = NearestNeighbors(n_neighbors=k, algorithm='auto', metric=cosine_similarity)\n",
        "    nbrs.fit(embedding_every_word)\n",
        "    # find k_nearest nbrs of selected words. dim:(num_selected, k)\n",
        "    id_nbrs = nbrs.kneighbors(embedding_selected_word, n_neighbors=k, return_distance=False)\n",
        "    \n",
        "    # print neighbours in words instead of id\n",
        "    for i, sel_w_id in enumerate(selected_word_id):\n",
        "        query_w = val_dict[sel_w_id]\n",
        "        neigh_w = []\n",
        "        for j in range(k):\n",
        "            neigh_w.append(val_dict[id_nbrs[i,j]])\n",
        "        print('{} {} most similar words: {}'.format(query_w, k, neigh_w))"
      ],
      "metadata": {
        "id": "eSwg6dFKiOxe"
      },
      "execution_count": null,
      "outputs": []
    },
    {
      "cell_type": "code",
      "source": [
        "SELECTED_WORDS = [tokenizer.word_index[word] for word in [\"holy\", \"father\", \"wine\", \"poison\", \"love\", \"strong\", \"day\"]]\n",
        "\n",
        "import matplotlib.pyplot as plt\n",
        "\n",
        "epoch_losses = []\n",
        "\n",
        "for epoch in range(EPOCHS):\n",
        "    print('Epoch: ', epoch)\n",
        "    train_losses = []  # each entry is averaged loss of each batch\n",
        "    # train over all batches\n",
        "\n",
        "    for input_batch, target_batch in dataset:\n",
        "        train_losses.append(train_step(skipgram, input_batch, target_batch, optimizer))\n",
        "\n",
        "    # log train loss\n",
        "    with train_summary_writer.as_default():  \n",
        "        tf.summary.scalar('loss', np.mean(train_losses), step=epoch)\n",
        "    epoch_losses.append(np.mean(train_losses))\n",
        "\n",
        "    # Nearest neighbours to check embeddings\n",
        "    nearest_neighbours(skipgram, len(tokenizer.word_counts.keys()), SELECTED_WORDS, tokenizer.index_word)\n",
        "    print(' ')\n",
        "\n",
        "plt.plot(epoch_losses)\n",
        "plt.title(\"Training Loss\")\n",
        "plt.xlabel(\"Epoch\")\n",
        "plt.ylabel(\"Loss\")\n",
        "plt.show()"
      ],
      "metadata": {
        "id": "5Vqgkhnrhwto",
        "outputId": "5bf1440e-a4d3-431c-ad1d-e1205bd5b5f9",
        "colab": {
          "base_uri": "https://localhost:8080/",
          "height": 1000
        }
      },
      "execution_count": null,
      "outputs": [
        {
          "output_type": "stream",
          "name": "stdout",
          "text": [
            "Epoch:  0\n",
            "holy 5 most similar words: ['satisfy', 'backsliding', 'aided', 'dined', 'binnui']\n",
            "father 5 most similar words: ['grew', 'reward', 'crieth', 'vengeance', 'having']\n",
            "wine 5 most similar words: ['wicked', 'flee', 'sinners', 'having', 'finish']\n",
            "poison 5 most similar words: ['surprised', 'snuffers', 'wet', 'nereus', 'displeased']\n",
            "love 5 most similar words: ['cursing', 'tempered', 'detain', 'afflicted', 'shua']\n",
            "strong 5 most similar words: ['garnish', 'ascending', 'dalphon', 'kneeling', 'raising']\n",
            "day 5 most similar words: ['us', 'scribe', 'firstfruit', 'ancestors', 'truth']\n",
            " \n",
            "Epoch:  1\n",
            "holy 5 most similar words: ['satisfy', 'backsliding', 'aided', 'dined', 'binnui']\n",
            "father 5 most similar words: ['garment', 'word', 'sinners', 'wicked', 'backward']\n",
            "wine 5 most similar words: ['garment', 'wicked', 'sinners', 'heel', 'scatter']\n",
            "poison 5 most similar words: ['surprised', 'snuffers', 'wet', 'nereus', 'displeased']\n",
            "love 5 most similar words: ['cursing', 'tempered', 'nakedness', 'detain', 'afflicted']\n",
            "strong 5 most similar words: ['garnish', 'ascending', 'dalphon', 'kneeling', 'raising']\n",
            "day 5 most similar words: ['pleased', 'confiscation', 'neglected', 'grind', 'can']\n",
            " \n",
            "Epoch:  2\n",
            "holy 5 most similar words: ['satisfy', 'backsliding', 'aided', 'dined', 'binnui']\n",
            "father 5 most similar words: ['garment', 'freely', 'mayest', 'scatter', 'offered']\n",
            "wine 5 most similar words: ['garment', 'covered', 'scatter', 'word', 'freely']\n",
            "poison 5 most similar words: ['surprised', 'snuffers', 'wet', 'nereus', 'displeased']\n",
            "love 5 most similar words: ['cursing', 'tempered', 'detain', 'afflicted', 'shua']\n",
            "strong 5 most similar words: ['garnish', 'ascending', 'dalphon', 'kneeling', 'raising']\n",
            "day 5 most similar words: ['garment', 'scatter', 'ashamed', 'backward', 'subtil']\n",
            " \n",
            "Epoch:  3\n",
            "holy 5 most similar words: ['satisfy', 'backsliding', 'aided', 'dined', 'binnui']\n",
            "father 5 most similar words: ['garment', 'dart', 'mayest', 'freely', 'walked']\n",
            "wine 5 most similar words: ['garment', 'walked', 'mayest', 'freely', 'prevail']\n",
            "poison 5 most similar words: ['surprised', 'snuffers', 'wet', 'nereus', 'displeased']\n",
            "love 5 most similar words: ['cursing', 'tempered', 'detain', 'afflicted', 'shua']\n",
            "strong 5 most similar words: ['garnish', 'ascending', 'dalphon', 'kneeling', 'raising']\n",
            "day 5 most similar words: ['garment', 'edifying', 'scattered', 'coats', 'raven']\n",
            " \n",
            "Epoch:  4\n",
            "holy 5 most similar words: ['satisfy', 'backsliding', 'aided', 'dined', 'binnui']\n",
            "father 5 most similar words: ['falsehood', 'circumcision', 'garment', 'lighted', 'hazaiah']\n",
            "wine 5 most similar words: ['garment', 'scatter', 'thunderbolts', 'heresy', 'eleph']\n",
            "poison 5 most similar words: ['surprised', 'snuffers', 'wet', 'nereus', 'displeased']\n",
            "love 5 most similar words: ['cursing', 'tempered', 'detain', 'afflicted', 'shua']\n",
            "strong 5 most similar words: ['garnish', 'ascending', 'dalphon', 'kneeling', 'raising']\n",
            "day 5 most similar words: ['garment', 'hiss', 'grind', 'edifying', 'tithes']\n",
            " \n",
            "Epoch:  5\n",
            "holy 5 most similar words: ['satisfy', 'backsliding', 'aided', 'dined', 'binnui']\n",
            "father 5 most similar words: ['garment', 'hazaiah', 'falsehood', 'circumcision', 'devotions']\n",
            "wine 5 most similar words: ['garment', 'thunderbolts', 'scatter', 'hebrew', 'heresy']\n",
            "poison 5 most similar words: ['surprised', 'snuffers', 'wet', 'nereus', 'displeased']\n",
            "love 5 most similar words: ['cursing', 'tempered', 'detain', 'afflicted', 'shua']\n",
            "strong 5 most similar words: ['garnish', 'ascending', 'dalphon', 'kneeling', 'raising']\n",
            "day 5 most similar words: ['garment', 'selfwilled', 'edifying', 'drove', 'grind']\n",
            " \n",
            "Epoch:  6\n",
            "holy 5 most similar words: ['satisfy', 'backsliding', 'aided', 'dined', 'binnui']\n",
            "father 5 most similar words: ['garment', 'comfort', 'verified', 'failed', 'dart']\n",
            "wine 5 most similar words: ['garment', 'thunderbolts', 'prison', 'obed', 'casting']\n",
            "poison 5 most similar words: ['surprised', 'snuffers', 'wet', 'nereus', 'displeased']\n",
            "love 5 most similar words: ['cursing', 'tempered', 'detain', 'afflicted', 'shua']\n",
            "strong 5 most similar words: ['garnish', 'ascending', 'dalphon', 'kneeling', 'raising']\n",
            "day 5 most similar words: ['like', 'grind', 'garment', 'comfort', 'shuttle']\n",
            " \n",
            "Epoch:  7\n",
            "holy 5 most similar words: ['carcases', 'satisfy', 'away', 'drove', 'backsliding']\n",
            "father 5 most similar words: ['devotions', 'hazaiah', 'dart', 'falsehood', 'jehud']\n",
            "wine 5 most similar words: ['garment', 'thunderbolts', 'prison', 'guests', 'obed']\n",
            "poison 5 most similar words: ['surprised', 'snuffers', 'wet', 'nereus', 'displeased']\n",
            "love 5 most similar words: ['cursing', 'tempered', 'detain', 'afflicted', 'shua']\n",
            "strong 5 most similar words: ['garnish', 'ascending', 'dalphon', 'kneeling', 'raising']\n",
            "day 5 most similar words: ['garment', 'edifying', 'plagues', 'deny', 'zina']\n",
            " \n",
            "Epoch:  8\n",
            "holy 5 most similar words: ['carcases', 'satisfy', 'drove', 'backsliding', 'aided']\n",
            "father 5 most similar words: ['devotions', 'hazaiah', 'dart', 'failed', 'jehud']\n",
            "wine 5 most similar words: ['garment', 'thunderbolts', 'heresy', 'dart', 'guests']\n",
            "poison 5 most similar words: ['surprised', 'snuffers', 'wet', 'nereus', 'displeased']\n",
            "love 5 most similar words: ['cursing', 'tempered', 'detain', 'afflicted', 'shua']\n",
            "strong 5 most similar words: ['garnish', 'ascending', 'dalphon', 'kneeling', 'raising']\n",
            "day 5 most similar words: ['edifying', 'overthroweth', 'zina', 'garment', 'heldai']\n",
            " \n",
            "Epoch:  9\n",
            "holy 5 most similar words: ['carcases', 'satisfy', 'away', 'backsliding', 'aided']\n",
            "father 5 most similar words: ['badest', 'sounding', 'hazaiah', 'birthday', 'distant']\n",
            "wine 5 most similar words: ['thunderbolts', 'heresy', 'prison', 'dart', 'drove']\n",
            "poison 5 most similar words: ['surprised', 'snuffers', 'wet', 'nereus', 'displeased']\n",
            "love 5 most similar words: ['cursing', 'tempered', 'detain', 'afflicted', 'shua']\n",
            "strong 5 most similar words: ['garnish', 'ascending', 'dalphon', 'kneeling', 'raising']\n",
            "day 5 most similar words: ['mikneiah', 'edifying', 'drove', 'diversities', 'esau']\n",
            " \n",
            "Epoch:  10\n",
            "holy 5 most similar words: ['carcases', 'satisfy', 'backsliding', 'aided', 'dined']\n",
            "father 5 most similar words: ['birthday', 'sounding', 'badest', 'besom', 'havock']\n",
            "wine 5 most similar words: ['thunderbolts', 'heresy', 'dart', 'prison', 'jealousies']\n",
            "poison 5 most similar words: ['surprised', 'snuffers', 'wet', 'nereus', 'displeased']\n",
            "love 5 most similar words: ['cursing', 'tempered', 'eighteen', 'detain', 'afflicted']\n",
            "strong 5 most similar words: ['garnish', 'ascending', 'dalphon', 'kneeling', 'raising']\n",
            "day 5 most similar words: ['dealer', 'mikneiah', 'edifying', 'deny', 'benefit']\n",
            " \n",
            "Epoch:  11\n",
            "holy 5 most similar words: ['satisfy', 'carcases', 'backsliding', 'aided', 'dined']\n",
            "father 5 most similar words: ['birthday', 'henadad', 'havock', 'naamans', 'distant']\n",
            "wine 5 most similar words: ['thunderbolts', 'heresy', 'prison', 'dart', 'guests']\n",
            "poison 5 most similar words: ['surprised', 'snuffers', 'wet', 'nereus', 'displeased']\n",
            "love 5 most similar words: ['cursing', 'tempered', 'detain', 'afflicted', 'shua']\n",
            "strong 5 most similar words: ['garnish', 'ascending', 'dalphon', 'kneeling', 'raising']\n",
            "day 5 most similar words: ['dealer', 'zina', 'tempting', 'deny', 'trode']\n",
            " \n",
            "Epoch:  12\n",
            "holy 5 most similar words: ['satisfy', 'backsliding', 'aided', 'dined', 'binnui']\n",
            "father 5 most similar words: ['birthday', 'henadad', 'havock', 'blaspheming', 'devotions']\n",
            "wine 5 most similar words: ['dart', 'deemed', 'heresy', 'strivings', 'thunderbolts']\n",
            "poison 5 most similar words: ['surprised', 'snuffers', 'wet', 'nereus', 'displeased']\n",
            "love 5 most similar words: ['cursing', 'tempered', 'detain', 'afflicted', 'shua']\n",
            "strong 5 most similar words: ['garnish', 'ascending', 'dalphon', 'kneeling', 'raising']\n",
            "day 5 most similar words: ['zina', 'dealer', 'dandled', 'tempting', 'benefit']\n",
            " \n",
            "Epoch:  13\n",
            "holy 5 most similar words: ['satisfy', 'backsliding', 'aided', 'dined', 'carcases']\n",
            "father 5 most similar words: ['henadad', 'blaspheming', 'birthday', 'havock', 'devotions']\n",
            "wine 5 most similar words: ['heresy', 'deemed', 'dart', 'strivings', 'ashan']\n",
            "poison 5 most similar words: ['surprised', 'snuffers', 'wet', 'nereus', 'displeased']\n",
            "love 5 most similar words: ['cursing', 'tempered', 'detain', 'afflicted', 'shua']\n",
            "strong 5 most similar words: ['garnish', 'ascending', 'dalphon', 'kneeling', 'raising']\n",
            "day 5 most similar words: ['zina', 'dandled', 'mikneiah', 'benefit', 'dealer']\n",
            " \n",
            "Epoch:  14\n",
            "holy 5 most similar words: ['satisfy', 'backsliding', 'aided', 'dined', 'binnui']\n",
            "father 5 most similar words: ['birthday', 'blaspheming', 'havock', 'lebbaeus', 'sounding']\n",
            "wine 5 most similar words: ['heresy', 'dart', 'deemed', 'strivings', 'ashan']\n",
            "poison 5 most similar words: ['surprised', 'snuffers', 'wet', 'nereus', 'displeased']\n",
            "love 5 most similar words: ['cursing', 'tempered', 'detain', 'afflicted', 'shua']\n",
            "strong 5 most similar words: ['garnish', 'ascending', 'dalphon', 'kneeling', 'raising']\n",
            "day 5 most similar words: ['benefit', 'tempting', 'mikneiah', 'conquerors', 'claudia']\n",
            " \n",
            "Epoch:  15\n",
            "holy 5 most similar words: ['satisfy', 'backsliding', 'aided', 'dined', 'binnui']\n",
            "father 5 most similar words: ['birthday', 'blaspheming', 'lebbaeus', 'distant', 'havock']\n",
            "wine 5 most similar words: ['heresy', 'deemed', 'ashan', 'fail', 'descry']\n",
            "poison 5 most similar words: ['surprised', 'snuffers', 'wet', 'nereus', 'displeased']\n",
            "love 5 most similar words: ['cursing', 'tempered', 'detain', 'afflicted', 'shua']\n",
            "strong 5 most similar words: ['garnish', 'ascending', 'dalphon', 'kneeling', 'raising']\n",
            "day 5 most similar words: ['register', 'benefit', 'tempting', 'salmon', 'buildings']\n",
            " \n",
            "Epoch:  16\n",
            "holy 5 most similar words: ['satisfy', 'backsliding', 'aided', 'dined', 'binnui']\n",
            "father 5 most similar words: ['blaspheming', 'birthday', 'therefrom', 'sounding', 'lebbaeus']\n",
            "wine 5 most similar words: ['heresy', 'deemed', 'ashan', 'azareel', 'abilene']\n",
            "poison 5 most similar words: ['surprised', 'snuffers', 'wet', 'nereus', 'displeased']\n",
            "love 5 most similar words: ['cursing', 'tempered', 'detain', 'afflicted', 'shua']\n",
            "strong 5 most similar words: ['garnish', 'ascending', 'dalphon', 'kneeling', 'raising']\n",
            "day 5 most similar words: ['tempting', 'stewards', 'buildings', 'zina', 'conquerors']\n",
            " \n",
            "Epoch:  17\n",
            "holy 5 most similar words: ['satisfy', 'backsliding', 'aided', 'dined', 'binnui']\n",
            "father 5 most similar words: ['blaspheming', 'birthday', 'julius', 'glorify', 'therefrom']\n",
            "wine 5 most similar words: ['heresy', 'deemed', 'ashan', 'throughout', 'azareel']\n",
            "poison 5 most similar words: ['surprised', 'snuffers', 'wet', 'nereus', 'displeased']\n",
            "love 5 most similar words: ['cursing', 'tempered', 'detain', 'afflicted', 'shua']\n",
            "strong 5 most similar words: ['garnish', 'ascending', 'dalphon', 'kneeling', 'raising']\n",
            "day 5 most similar words: ['buildings', 'tempting', 'conquerors', 'ostrich', 'backbitings']\n",
            " \n",
            "Epoch:  18\n",
            "holy 5 most similar words: ['satisfy', 'backsliding', 'aided', 'dined', 'binnui']\n",
            "father 5 most similar words: ['blaspheming', 'sounding', 'birthday', 'henadad', 'uri']\n",
            "wine 5 most similar words: ['heresy', 'deemed', 'ashan', 'throughout', 'azareel']\n",
            "poison 5 most similar words: ['surprised', 'snuffers', 'wet', 'nereus', 'displeased']\n",
            "love 5 most similar words: ['cursing', 'tempered', 'detain', 'afflicted', 'shua']\n",
            "strong 5 most similar words: ['garnish', 'ascending', 'dalphon', 'kneeling', 'raising']\n",
            "day 5 most similar words: ['buildings', 'selfwilled', 'ostrich', 'whiter', 'conquerors']\n",
            " \n",
            "Epoch:  19\n",
            "holy 5 most similar words: ['satisfy', 'backsliding', 'aided', 'dined', 'binnui']\n",
            "father 5 most similar words: ['blaspheming', 'henadad', 'uri', 'birthday', 'fiercer']\n",
            "wine 5 most similar words: ['heresy', 'deemed', 'throughout', 'ashan', 'azareel']\n",
            "poison 5 most similar words: ['surprised', 'snuffers', 'wet', 'nereus', 'displeased']\n",
            "love 5 most similar words: ['cursing', 'tempered', 'detain', 'afflicted', 'shua']\n",
            "strong 5 most similar words: ['garnish', 'ascending', 'dalphon', 'kneeling', 'raising']\n",
            "day 5 most similar words: ['conquerors', 'tempting', 'whiter', 'buildings', 'hachilah']\n",
            " \n"
          ]
        },
        {
          "output_type": "display_data",
          "data": {
            "text/plain": [
              "<Figure size 432x288 with 1 Axes>"
            ],
            "image/png": "[encoded data removed]"
          },
          "metadata": {
            "needs_background": "light"
          }
        }
      ]
    }
  ],
  "metadata": {
    "kernelspec": {
      "display_name": "ki_klausur",
      "language": "python",
      "name": "python3"
    },
    "language_info": {
      "codemirror_mode": {
        "name": "ipython",
        "version": 3
      },
      "file_extension": ".py",
      "mimetype": "text/x-python",
      "name": "python",
      "nbconvert_exporter": "python",
      "pygments_lexer": "ipython3",
      "version": "3.8.12"
    },
    "orig_nbformat": 4,
    "vscode": {
      "interpreter": {
        "hash": "ccc2749a7be4b92b5b584e86e3aa803380c51e1da575f498b6f2d8cfba82568a"
      }
    },
    "colab": {
      "provenance": []
    },
    "gpuClass": "standard",
    "accelerator": "GPU"
  },
  "nbformat": 4,
  "nbformat_minor": 0
}