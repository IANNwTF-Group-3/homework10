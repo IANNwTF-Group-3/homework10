{
 "cells": [
  {
   "cell_type": "code",
   "execution_count": 6,
   "metadata": {},
   "outputs": [],
   "source": [
    "import numpy as np\n",
    "\n",
    "file_path = \"bible.txt\"\n",
    "\n",
    "with open(file_path, \"r\") as f:\n",
    "    text = f.read()"
   ]
  },
  {
   "cell_type": "code",
   "execution_count": 10,
   "metadata": {},
   "outputs": [
    {
     "name": "stdout",
     "output_type": "stream",
     "text": [
      "[42, 55, 52, 1, 28, 56, 65, 66, 67, 1, 24, 62, 62, 58, 1, 62, 53, 1, 35, 62, 66, 52, 66, 20, 1, 1, 25, 48, 59, 59, 52, 51, 1, 29, 52, 61, 52, 66, 56, 66, 0, 0, 0, 11, 20, 11, 1, 31, 61, 1]\n"
     ]
    }
   ],
   "source": [
    "\n",
    "vocabulary = {x: i for i, x in enumerate(np.unique(list(text)))}\n",
    "char_tokens = [vocabulary[char] for char in text]\n",
    "print(char_tokens[:50])"
   ]
  },
  {
   "cell_type": "code",
   "execution_count": null,
   "metadata": {},
   "outputs": [],
   "source": []
  }
 ],
 "metadata": {
  "kernelspec": {
   "display_name": "Python 3",
   "language": "python",
   "name": "python3"
  },
  "language_info": {
   "codemirror_mode": {
    "name": "ipython",
    "version": 3
   },
   "file_extension": ".py",
   "mimetype": "text/x-python",
   "name": "python",
   "nbconvert_exporter": "python",
   "pygments_lexer": "ipython3",
   "version": "3.10.0 (tags/v3.10.0:b494f59, Oct  4 2021, 19:00:18) [MSC v.1929 64 bit (AMD64)]"
  },
  "orig_nbformat": 4,
  "vscode": {
   "interpreter": {
    "hash": "cb17ee564a8986b68b4bcf37d3496b9203958350e626cde8185b649838eb7ade"
   }
  }
 },
 "nbformat": 4,
 "nbformat_minor": 2
}
